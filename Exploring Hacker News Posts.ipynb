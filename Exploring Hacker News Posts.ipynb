{
 "cells": [
  {
   "cell_type": "markdown",
   "id": "8cbea450",
   "metadata": {},
   "source": [
    "# <center>Data Analysis on Hacker News Post</center> \n",
    "\n",
    "---\n",
    "\n",
    "\n",
    "In this project I will be working with a dataset of submissions to popular technology site [Hacker News.](https://news.ycombinator.com/)\n",
    "\n",
    "![Hacker News Logo.JPG](https://github.com/Clifton-Lee/Exploring-Hacker-News-Post/blob/main/Hacker%20News%20Logo.JPG?raw=true)\n",
    "\n",
    "Hacker News is a site founded by the startup incubator **Y Combinator**, where user-submitted articles (known as \"posts\") get votes and comments in a manner similar to Reddit. Hacker News is highly popular in the tech and startup communities, and articles that reach the top of the Hacker News rankings may get hundreds of thousands of visits as a result.\n",
    "\n",
    "The data set is available [here](https://www.kaggle.com/hacker-news/hacker-news-posts), however please keep in mind that I reduced it from over 300,000 rows to roughly 20,000 rows by eliminating all submissions that did not get any comments and then randomly selecting from the remaining submissions. \n",
    "\n",
    "The columns are described below:\n",
    "\n",
    "- `id`: the unique identifier from Hacker News for the post\n",
    "- `title`: the title of the post\n",
    "- `url`: the URL that the posts links to, if the post has a URL\n",
    "- `num_points`: the number of points the post acquired, calculated as the total number of upvotes minus the total number of downvotes\n",
    "- `num_comments`: the number of comments on the post\n",
    "- `author`: the username of the person who submitted the post\n",
    "- `created_at`: the date and time of the post's submission\n",
    "\n",
    "I am specifically interested in posts with titles that begin with either `Ask HN` or `Show HN`. Users submit `Ask HN` posts to ask the Hacker News community a specific question. Below are a few examples:\n",
    "\n",
    "> `Ask HN`: How to improve my personal website?\n",
    "`Ask HN`: Am I the only one outraged by Twitter shutting down share counts?\n",
    "`Ask HN`: Aby recent changes to CSS that broke mobile?\n",
    "\n",
    "Likewise, users submit `Show HN` posts to show the Hacker News community a project, product, or just something interesting. Below are a few examples:\n",
    "\n",
    "> `Show HN`: Wio Link  ESP8266 Based Web of Things Hardware Development Platform'\n",
    "`Show HN`: Something pointless I made\n",
    "`Show HN`: Shanhu.io, a programming playground powered by e8vm\n",
    "\n",
    "I'll compare these two types of posts to determine the following:\n",
    "\n",
    "- Do `Ask HN` or `Show HN` receive more comments on average?\n",
    "- Do posts created at a certain time receive more comments on average?\n",
    "\n"
   ]
  },
  {
   "cell_type": "markdown",
   "id": "2eb8c4db",
   "metadata": {},
   "source": [
    "## Data Understanding & Preparation\n",
    "\n",
    "I will start by importing the libraries I need and read the dataset into a list of lists. "
   ]
  },
  {
   "cell_type": "markdown",
   "id": "95daba82",
   "metadata": {},
   "source": [
    "**Import Libraries**"
   ]
  },
  {
   "cell_type": "code",
   "execution_count": 1,
   "id": "c13bf1ea",
   "metadata": {},
   "outputs": [],
   "source": [
    "import datetime as dt\n",
    "from csv import reader"
   ]
  },
  {
   "cell_type": "markdown",
   "id": "9da5fa89",
   "metadata": {},
   "source": [
    "**Read In Dataset As List of List** "
   ]
  },
  {
   "cell_type": "code",
   "execution_count": 2,
   "id": "bf42413f",
   "metadata": {},
   "outputs": [
    {
     "name": "stdout",
     "output_type": "stream",
     "text": [
      "[['id', 'title', 'url', 'num_points', 'num_comments', 'author', 'created_at'], ['12224879', 'Interactive Dynamic Video', 'http://www.interactivedynamicvideo.com/', '386', '52', 'ne0phyte', '8/4/2016 11:52'], ['10975351', 'How to Use Open Source and Shut the Fuck Up at the Same Time', 'http://hueniverse.com/2016/01/26/how-to-use-open-source-and-shut-the-fuck-up-at-the-same-time/', '39', '10', 'josep2', '1/26/2016 19:30'], ['11964716', \"Florida DJs May Face Felony for April Fools' Water Joke\", 'http://www.thewire.com/entertainment/2013/04/florida-djs-april-fools-water-joke/63798/', '2', '1', 'vezycash', '6/23/2016 22:20'], ['11919867', 'Technology ventures: From Idea to Enterprise', 'https://www.amazon.com/Technology-Ventures-Enterprise-Thomas-Byers/dp/0073523429', '3', '1', 'hswarna', '6/17/2016 0:01']]\n"
     ]
    }
   ],
   "source": [
    "# Open the CSV file as a list of list \n",
    "opened_file = open(\"hacker_news.csv\")\n",
    "read_file = reader(opened_file)\n",
    "hn = list(read_file)\n",
    "\n",
    "print(hn[:5]) # display the first five rows"
   ]
  },
  {
   "cell_type": "markdown",
   "id": "e04d9503",
   "metadata": {},
   "source": [
    "Notice that the first list in the inner lists contains the column headers, and the lists after contain the data for one row. In order to analyze the data, I need to first remove the row containing the column headers. I will remove that first row next."
   ]
  },
  {
   "cell_type": "code",
   "execution_count": 3,
   "id": "1b3bb5a8",
   "metadata": {},
   "outputs": [
    {
     "name": "stdout",
     "output_type": "stream",
     "text": [
      "The header row is printed below: \n",
      "\n",
      " ['id', 'title', 'url', 'num_points', 'num_comments', 'author', 'created_at']\n",
      "\n",
      "The first five rows minus the header row is printed below: \n",
      "\n",
      " [['12224879', 'Interactive Dynamic Video', 'http://www.interactivedynamicvideo.com/', '386', '52', 'ne0phyte', '8/4/2016 11:52'], ['10975351', 'How to Use Open Source and Shut the Fuck Up at the Same Time', 'http://hueniverse.com/2016/01/26/how-to-use-open-source-and-shut-the-fuck-up-at-the-same-time/', '39', '10', 'josep2', '1/26/2016 19:30'], ['11964716', \"Florida DJs May Face Felony for April Fools' Water Joke\", 'http://www.thewire.com/entertainment/2013/04/florida-djs-april-fools-water-joke/63798/', '2', '1', 'vezycash', '6/23/2016 22:20'], ['11919867', 'Technology ventures: From Idea to Enterprise', 'https://www.amazon.com/Technology-Ventures-Enterprise-Thomas-Byers/dp/0073523429', '3', '1', 'hswarna', '6/17/2016 0:01'], ['10301696', 'Note by Note: The Making of Steinway L1037 (2007)', 'http://www.nytimes.com/2007/11/07/movies/07stein.html?_r=0', '8', '2', 'walterbell', '9/30/2015 4:12']]\n"
     ]
    }
   ],
   "source": [
    "# Extract the first row of hn \n",
    "headers = hn[0]\n",
    "hn = hn[1:]\n",
    "\n",
    "# Display that the extraction was done correctly \n",
    "print(\"The header row is printed below: \\n\\n\",headers, end = '\\n\\n')\n",
    "print(\"The first five rows minus the header row is printed below: \\n\\n\",hn[:5])"
   ]
  },
  {
   "cell_type": "markdown",
   "id": "9196a633",
   "metadata": {},
   "source": [
    "Now that I've removed the headers from `hn`, I am  ready to filter the data. Since I am  only concerned with post titles beginning with *__Ask HN__* or *__Show HN__*, I'll create new lists of lists containing just the data for those titles."
   ]
  },
  {
   "cell_type": "code",
   "execution_count": 4,
   "id": "d8c4b89a",
   "metadata": {
    "scrolled": true
   },
   "outputs": [
    {
     "name": "stdout",
     "output_type": "stream",
     "text": [
      "The number of post with \"Ask HN\": 1,744\n",
      "The number of post with \"Show HN\": 1,162\n",
      "The number of post without \"Ask HN\" or \"Show HN\": 17,194\n"
     ]
    }
   ],
   "source": [
    "ask_posts = []\n",
    "show_posts = []\n",
    "other_posts = []\n",
    "\n",
    "for post in hn:\n",
    "    title = post[1]\n",
    "    \n",
    "    if title.lower().startswith('ask hn'):\n",
    "        ask_posts.append(post)\n",
    "    elif title.lower().startswith('show hn'):\n",
    "        show_posts.append(post)\n",
    "    else:\n",
    "        other_posts.append(post)\n",
    "        \n",
    "print(\"The number of post with \\\"Ask HN\\\": {:,}\".format(len(ask_posts)))\n",
    "print(\"The number of post with \\\"Show HN\\\": {:,}\".format(len(show_posts)))\n",
    "print(\"The number of post without \\\"Ask HN\\\" or \\\"Show HN\\\": {:,}\".format(len(other_posts)))"
   ]
  },
  {
   "cell_type": "markdown",
   "id": "2fd34b31",
   "metadata": {},
   "source": [
    "## Data Exploration & Analysis\n",
    "\n",
    "I separated the \"ask posts\" and the \"show posts\" into two lists of lists named `ask_posts` and `show_posts`. Below are the first five rows in the `ask_posts` list of lists:"
   ]
  },
  {
   "cell_type": "code",
   "execution_count": 5,
   "id": "06cf6db1",
   "metadata": {},
   "outputs": [
    {
     "data": {
      "text/plain": [
       "[['12296411',\n",
       "  'Ask HN: How to improve my personal website?',\n",
       "  '',\n",
       "  '2',\n",
       "  '6',\n",
       "  'ahmedbaracat',\n",
       "  '8/16/2016 9:55'],\n",
       " ['10610020',\n",
       "  'Ask HN: Am I the only one outraged by Twitter shutting down share counts?',\n",
       "  '',\n",
       "  '28',\n",
       "  '29',\n",
       "  'tkfx',\n",
       "  '11/22/2015 13:43'],\n",
       " ['11610310',\n",
       "  'Ask HN: Aby recent changes to CSS that broke mobile?',\n",
       "  '',\n",
       "  '1',\n",
       "  '1',\n",
       "  'polskibus',\n",
       "  '5/2/2016 10:14'],\n",
       " ['12210105',\n",
       "  'Ask HN: Looking for Employee #3 How do I do it?',\n",
       "  '',\n",
       "  '1',\n",
       "  '3',\n",
       "  'sph130',\n",
       "  '8/2/2016 14:20'],\n",
       " ['10394168',\n",
       "  'Ask HN: Someone offered to buy my browser extension from me. What now?',\n",
       "  '',\n",
       "  '28',\n",
       "  '17',\n",
       "  'roykolak',\n",
       "  '10/15/2015 16:38']]"
      ]
     },
     "execution_count": 5,
     "metadata": {},
     "output_type": "execute_result"
    }
   ],
   "source": [
    "ask_posts[:5]"
   ]
  },
  {
   "cell_type": "markdown",
   "id": "887a07e5",
   "metadata": {},
   "source": [
    "Below are the first five rows in the show_posts list of lists:"
   ]
  },
  {
   "cell_type": "code",
   "execution_count": 6,
   "id": "cdf2ea1a",
   "metadata": {},
   "outputs": [
    {
     "data": {
      "text/plain": [
       "[['10627194',\n",
       "  'Show HN: Wio Link  ESP8266 Based Web of Things Hardware Development Platform',\n",
       "  'https://iot.seeed.cc',\n",
       "  '26',\n",
       "  '22',\n",
       "  'kfihihc',\n",
       "  '11/25/2015 14:03'],\n",
       " ['10646440',\n",
       "  'Show HN: Something pointless I made',\n",
       "  'http://dn.ht/picklecat/',\n",
       "  '747',\n",
       "  '102',\n",
       "  'dhotson',\n",
       "  '11/29/2015 22:46'],\n",
       " ['11590768',\n",
       "  'Show HN: Shanhu.io, a programming playground powered by e8vm',\n",
       "  'https://shanhu.io',\n",
       "  '1',\n",
       "  '1',\n",
       "  'h8liu',\n",
       "  '4/28/2016 18:05'],\n",
       " ['12178806',\n",
       "  'Show HN: Webscope  Easy way for web developers to communicate with Clients',\n",
       "  'http://webscopeapp.com',\n",
       "  '3',\n",
       "  '3',\n",
       "  'fastbrick',\n",
       "  '7/28/2016 7:11'],\n",
       " ['10872799',\n",
       "  'Show HN: GeoScreenshot  Easily test Geo-IP based web pages',\n",
       "  'https://www.geoscreenshot.com/',\n",
       "  '1',\n",
       "  '9',\n",
       "  'kpsychwave',\n",
       "  '1/9/2016 20:45']]"
      ]
     },
     "execution_count": 6,
     "metadata": {},
     "output_type": "execute_result"
    }
   ],
   "source": [
    "show_posts[:5]"
   ]
  },
  {
   "cell_type": "markdown",
   "id": "b538305e",
   "metadata": {},
   "source": [
    "Next, I will determine if ask posts or show posts receive more comments on average."
   ]
  },
  {
   "cell_type": "code",
   "execution_count": 7,
   "id": "a558402c",
   "metadata": {},
   "outputs": [
    {
     "name": "stdout",
     "output_type": "stream",
     "text": [
      "The average number of comments label \"Ask HN\" is: 14.04\n"
     ]
    }
   ],
   "source": [
    "total_ask_comments = 0\n",
    "\n",
    "for post in ask_posts:\n",
    "    num_comments = int(post[4])\n",
    "    total_ask_comments += num_comments\n",
    "    \n",
    "avg_ask_comments = total_ask_comments/len(ask_posts)\n",
    "\n",
    "print('The average number of comments label \"Ask HN\" is: {:.2f}'.format(avg_ask_comments))"
   ]
  },
  {
   "cell_type": "code",
   "execution_count": 8,
   "id": "ca536ef3",
   "metadata": {},
   "outputs": [
    {
     "name": "stdout",
     "output_type": "stream",
     "text": [
      "The average number of comments label \"Show HN\" is: 10.32\n"
     ]
    }
   ],
   "source": [
    "total_show_comments = 0\n",
    "\n",
    "for post in show_posts:\n",
    "    num_comments = int(post[4])\n",
    "    total_show_comments += num_comments\n",
    "    \n",
    "avg_show_comments = total_show_comments/len(show_posts)\n",
    "\n",
    "print('The average number of comments label \"Show HN\" is: {:.2f}'.format(avg_show_comments))"
   ]
  },
  {
   "cell_type": "markdown",
   "id": "2bcb414b",
   "metadata": {},
   "source": [
    "Based on the information I've gathered so far, I've gleaned that \"ask posts\" get on average more comments than \"show posts\". Since \"ask posts\" are more likely to get comments than other types of postings, I will concentrate my remaining analysis only on these types of posts."
   ]
  },
  {
   "cell_type": "markdown",
   "id": "68f9e00f",
   "metadata": {},
   "source": [
    "Next, I'll determine if \"ask posts\" created at a certain time are more likely to attract comments. I'll use the following steps to perform this analysis:\n",
    "\n",
    "1. Calculate the number of \"ask posts\" created in each hour of the day, along with the number of comments received.\n",
    "2. Calculate the average number of comments \"ask posts\" receive by hour created."
   ]
  },
  {
   "cell_type": "code",
   "execution_count": 9,
   "id": "22fb3c4f",
   "metadata": {},
   "outputs": [],
   "source": [
    "result_list = []\n",
    "\n",
    "for post in ask_posts:\n",
    "    result_list.append([post[6],int(post[4])]) # created_at column is the 7th column in ask_posts hence index 6 \n",
    "    \n",
    "counts_by_hour = {}\n",
    "comments_by_hour = {}\n",
    "\n",
    "for item in result_list:\n",
    "    the_date = item[0]\n",
    "    the_date = dt.datetime.strptime(the_date,'%m/%d/%Y %H:%M')\n",
    "    the_hour = dt.datetime.strftime(the_date,'%H')\n",
    "    \n",
    "    if the_hour not in counts_by_hour:\n",
    "        counts_by_hour[the_hour] = 1\n",
    "        comments_by_hour[the_hour] = item[1]\n",
    "    else:\n",
    "        counts_by_hour[the_hour] += 1\n",
    "        comments_by_hour[the_hour] += item[1]"
   ]
  },
  {
   "cell_type": "code",
   "execution_count": 10,
   "id": "3ae0f600",
   "metadata": {},
   "outputs": [
    {
     "name": "stdout",
     "output_type": "stream",
     "text": [
      "The count of post by hour is displyed below: \n",
      " {'09': 45, '13': 85, '10': 59, '14': 107, '16': 108, '23': 68, '12': 73, '17': 100, '15': 116, '21': 109, '20': 80, '02': 58, '18': 109, '03': 54, '05': 46, '19': 110, '01': 60, '22': 71, '08': 48, '04': 47, '00': 55, '06': 44, '07': 34, '11': 58}\n",
      "\n",
      "The comments by hour is displayed below: \n",
      " {'09': 251, '13': 1253, '10': 793, '14': 1416, '16': 1814, '23': 543, '12': 687, '17': 1146, '15': 4477, '21': 1745, '20': 1722, '02': 1381, '18': 1439, '03': 421, '05': 464, '19': 1188, '01': 683, '22': 479, '08': 492, '04': 337, '00': 447, '06': 397, '07': 267, '11': 641}\n"
     ]
    }
   ],
   "source": [
    "print(\"The count of post by hour is displyed below: \\n\",counts_by_hour,end = '\\n\\n')\n",
    "print(\"The comments by hour is displayed below: \\n\",comments_by_hour)"
   ]
  },
  {
   "cell_type": "markdown",
   "id": "3c21c065",
   "metadata": {},
   "source": [
    "In the previous code cell, I created two dictionaries:\n",
    "\n",
    "- `counts_by_hour`: contains the number of ask posts created during each hour of the day.\n",
    "- `comments_by_hour`: contains the corresponding number of comments ask posts created at each hour received.\n",
    "\n",
    "Next, I'll use these two dictionaries to calculate the average number of comments for posts created during each hour of the day."
   ]
  },
  {
   "cell_type": "code",
   "execution_count": 11,
   "id": "955bbb46",
   "metadata": {},
   "outputs": [
    {
     "data": {
      "text/plain": [
       "[['09', 6.0],\n",
       " ['13', 15.0],\n",
       " ['10', 13.0],\n",
       " ['14', 13.0],\n",
       " ['16', 17.0],\n",
       " ['23', 8.0],\n",
       " ['12', 9.0],\n",
       " ['17', 11.0],\n",
       " ['15', 39.0],\n",
       " ['21', 16.0],\n",
       " ['20', 22.0],\n",
       " ['02', 24.0],\n",
       " ['18', 13.0],\n",
       " ['03', 8.0],\n",
       " ['05', 10.0],\n",
       " ['19', 11.0],\n",
       " ['01', 11.0],\n",
       " ['22', 7.0],\n",
       " ['08', 10.0],\n",
       " ['04', 7.0],\n",
       " ['00', 8.0],\n",
       " ['06', 9.0],\n",
       " ['07', 8.0],\n",
       " ['11', 11.0]]"
      ]
     },
     "execution_count": 11,
     "metadata": {},
     "output_type": "execute_result"
    }
   ],
   "source": [
    "avg_by_hour = []\n",
    "\n",
    "for hour in comments_by_hour:\n",
    "    avg_comment = round(comments_by_hour[hour] / counts_by_hour[hour],0)\n",
    "    avg_by_hour.append([hour,avg_comment])\n",
    "    \n",
    "avg_by_hour"
   ]
  },
  {
   "cell_type": "markdown",
   "id": "c4a495b8",
   "metadata": {},
   "source": [
    "Although I now have the results I need, this format makes it difficult to identify the hours with the highest values. I'll finish by sorting the list of lists and printing the five highest values in a format that's easier to read."
   ]
  },
  {
   "cell_type": "code",
   "execution_count": 12,
   "id": "8a0932e3",
   "metadata": {},
   "outputs": [
    {
     "name": "stdout",
     "output_type": "stream",
     "text": [
      "[[6.0, '09'], [15.0, '13'], [13.0, '10'], [13.0, '14'], [17.0, '16'], [8.0, '23'], [9.0, '12'], [11.0, '17'], [39.0, '15'], [16.0, '21'], [22.0, '20'], [24.0, '02'], [13.0, '18'], [8.0, '03'], [10.0, '05'], [11.0, '19'], [11.0, '01'], [7.0, '22'], [10.0, '08'], [7.0, '04'], [8.0, '00'], [9.0, '06'], [8.0, '07'], [11.0, '11']]\n"
     ]
    }
   ],
   "source": [
    "swap_avg_by_hour = []\n",
    "\n",
    "for item in avg_by_hour:\n",
    "    swap_avg_by_hour.append([item[1],item[0]])\n",
    "    \n",
    "print(swap_avg_by_hour)"
   ]
  },
  {
   "cell_type": "code",
   "execution_count": 13,
   "id": "753b4fe0",
   "metadata": {},
   "outputs": [
    {
     "name": "stdout",
     "output_type": "stream",
     "text": [
      "Top 5 Hours for Ask Post Comments:\n",
      "\n",
      "15:00 : 39.00 average comments per post\n",
      "02:00 : 24.00 average comments per post\n",
      "20:00 : 22.00 average comments per post\n",
      "16:00 : 17.00 average comments per post\n",
      "21:00 : 16.00 average comments per post\n"
     ]
    }
   ],
   "source": [
    "sorted_swap = sorted(swap_avg_by_hour, reverse = True)\n",
    "\n",
    "print(\"Top 5 Hours for Ask Post Comments:\", end = '\\n\\n')\n",
    "\n",
    "for avg, hour in sorted_swap[:5]:\n",
    "    given_hour = dt.datetime.strptime(hour,\"%H\")\n",
    "    given_hour = dt.datetime.strftime(given_hour,\"%H:%M\")\n",
    "    \n",
    "    print(\"{} : {:.2f} average comments per post\".format(given_hour, avg))"
   ]
  },
  {
   "cell_type": "markdown",
   "id": "bc622c74",
   "metadata": {},
   "source": [
    "## Conclusion\n",
    "\n",
    "According to the data gathered, the three best hours to make a post in order to maximize the probability of receiving comments are as follows:\n",
    "\n",
    "1. 3 p.m. Eastern Time in the United States\n",
    "\n",
    "2. 2 a.m. Eastern Time in the United States\n",
    "\n",
    "3. 8 p.m. Eastern Time in the United States\n"
   ]
  },
  {
   "cell_type": "code",
   "execution_count": null,
   "id": "b45895f3",
   "metadata": {},
   "outputs": [],
   "source": []
  }
 ],
 "metadata": {
  "kernelspec": {
   "display_name": "Python 3",
   "language": "python",
   "name": "python3"
  },
  "language_info": {
   "codemirror_mode": {
    "name": "ipython",
    "version": 3
   },
   "file_extension": ".py",
   "mimetype": "text/x-python",
   "name": "python",
   "nbconvert_exporter": "python",
   "pygments_lexer": "ipython3",
   "version": "3.7.9"
  }
 },
 "nbformat": 4,
 "nbformat_minor": 5
}
